{
 "cells": [
  {
   "cell_type": "markdown",
   "metadata": {},
   "source": [
    "# 6.21"
   ]
  },
  {
   "cell_type": "code",
   "execution_count": 31,
   "metadata": {},
   "outputs": [
    {
     "data": {
      "text/plain": [
       "3.7416573867739458"
      ]
     },
     "execution_count": 31,
     "metadata": {},
     "output_type": "execute_result"
    }
   ],
   "source": [
    "def sqrt(n):\n",
    "    last_guess = 1\n",
    "    while True:\n",
    "        next_guess = (last_guess + (n / last_guess)) / 2\n",
    "        if abs(last_guess - next_guess) < 0.0001:\n",
    "            break\n",
    "        last_guess = next_guess\n",
    "    return next_guess\n",
    "\n",
    "sqrt(14)"
   ]
  },
  {
   "cell_type": "markdown",
   "metadata": {},
   "source": [
    "# 6.34"
   ]
  },
  {
   "cell_type": "code",
   "execution_count": 36,
   "metadata": {},
   "outputs": [],
   "source": [
    "from math import pi, tan"
   ]
  },
  {
   "cell_type": "code",
   "execution_count": 37,
   "metadata": {},
   "outputs": [],
   "source": [
    "def area(n, side):\n",
    "    return (n * side**2) / (4 * tan(pi/n) )"
   ]
  },
  {
   "cell_type": "code",
   "execution_count": 38,
   "metadata": {},
   "outputs": [
    {
     "data": {
      "text/plain": [
       "72.69017017488385"
      ]
     },
     "execution_count": 38,
     "metadata": {},
     "output_type": "execute_result"
    }
   ],
   "source": [
    "area(5,6.5)"
   ]
  },
  {
   "cell_type": "markdown",
   "metadata": {},
   "source": [
    "# 8.3"
   ]
  },
  {
   "cell_type": "code",
   "execution_count": 49,
   "metadata": {},
   "outputs": [
    {
     "data": {
      "text/plain": [
       "65"
      ]
     },
     "execution_count": 49,
     "metadata": {},
     "output_type": "execute_result"
    }
   ],
   "source": [
    "ord(\"A\")"
   ]
  },
  {
   "cell_type": "code",
   "execution_count": 59,
   "metadata": {},
   "outputs": [
    {
     "data": {
      "text/plain": [
       "False"
      ]
     },
     "execution_count": 59,
     "metadata": {},
     "output_type": "execute_result"
    }
   ],
   "source": [
    "def only_char_or_int(password):\n",
    "    for char in password:\n",
    "        if not (48 <= ord(char) <= 57 or 65 <= ord(char) <= 90 or 97 <= ord(char) <= 122):\n",
    "            return False\n",
    "    return True\n",
    "\n",
    "only_char_or_int(\"as]\")"
   ]
  },
  {
   "cell_type": "code",
   "execution_count": 60,
   "metadata": {},
   "outputs": [
    {
     "data": {
      "text/plain": [
       "True"
      ]
     },
     "execution_count": 60,
     "metadata": {},
     "output_type": "execute_result"
    }
   ],
   "source": [
    "def at_least_two_digits(password):\n",
    "    digits = 0\n",
    "    for char in password:\n",
    "        if 48 <= ord(char) <= 57:\n",
    "            digits += 1\n",
    "    if digits >= 2:\n",
    "        return True\n",
    "    else:\n",
    "        return False\n",
    "    \n",
    "at_least_two_digits(\"4as3df2\")"
   ]
  },
  {
   "cell_type": "code",
   "execution_count": 69,
   "metadata": {},
   "outputs": [
    {
     "data": {
      "text/plain": [
       "True"
      ]
     },
     "execution_count": 69,
     "metadata": {},
     "output_type": "execute_result"
    }
   ],
   "source": [
    "def valid_password(password):\n",
    "    if len(password) >= 8 and only_char_or_int(password) and at_least_two_digits(password):\n",
    "        return True\n",
    "    else:\n",
    "        return False\n",
    "\n",
    "valid_password(\"asdf1234\")"
   ]
  },
  {
   "cell_type": "code",
   "execution_count": 73,
   "metadata": {},
   "outputs": [
    {
     "name": "stdout",
     "output_type": "stream",
     "text": [
      "Enter your password: asdf[\n",
      "Invalid Password\n"
     ]
    }
   ],
   "source": [
    "password = input(\"Enter your password: \")\n",
    "if valid_password(password):\n",
    "    print(\"Valid Password\")\n",
    "else:\n",
    "    print(\"Invalid Password\")\n",
    "    "
   ]
  },
  {
   "cell_type": "markdown",
   "metadata": {},
   "source": [
    "# 8.4"
   ]
  },
  {
   "cell_type": "code",
   "execution_count": 78,
   "metadata": {},
   "outputs": [
    {
     "data": {
      "text/plain": [
       "1"
      ]
     },
     "execution_count": 78,
     "metadata": {},
     "output_type": "execute_result"
    }
   ],
   "source": [
    "def count_char(string, char):\n",
    "    occurrences = 0\n",
    "    for s in string:\n",
    "        if s == char:\n",
    "            occurrences+=1\n",
    "    return occurrences\n",
    "\n",
    "count_char(\"Hello\", 'H')"
   ]
  },
  {
   "cell_type": "markdown",
   "metadata": {},
   "source": [
    "# 10.1"
   ]
  },
  {
   "cell_type": "code",
   "execution_count": 89,
   "metadata": {},
   "outputs": [
    {
     "name": "stdout",
     "output_type": "stream",
     "text": [
      "45 55 70 58\n",
      "Student 0 score is 45 and grade is C\n",
      "Student 1 score is 55 and grade is B\n",
      "Student 2 score is 70 and grade is A\n",
      "Student 3 score is 58 and grade is B\n"
     ]
    }
   ],
   "source": [
    "scores = list(map(int, input().split()))\n",
    "best = max(scores)\n",
    "for i, score in enumerate(scores):\n",
    "    if score >= best - 10:\n",
    "        grade = 'A'\n",
    "    elif score >= best - 20:\n",
    "        grade = 'B'\n",
    "    elif score >= best - 30:\n",
    "        grade = 'C'\n",
    "    elif score >- best - 40:\n",
    "        grade = 'D'\n",
    "    else:\n",
    "        grade = 'F'\n",
    "    print(f\"Student {i} score is {score} and grade is {grade}\")\n",
    "        "
   ]
  },
  {
   "cell_type": "markdown",
   "metadata": {},
   "source": [
    "# 10.3"
   ]
  },
  {
   "cell_type": "code",
   "execution_count": 107,
   "metadata": {},
   "outputs": [
    {
     "name": "stdout",
     "output_type": "stream",
     "text": [
      "Enter integers between 1 and 100: 2 5 6 5 4 3 23 43 2\n",
      "2 occurs 2 times\n",
      "3 occurs 1 time\n",
      "4 occurs 1 time\n",
      "5 occurs 2 times\n",
      "6 occurs 1 time\n",
      "23 occurs 1 time\n",
      "43 occurs 1 time\n"
     ]
    }
   ],
   "source": [
    "numbers = list(map(int, input(\"Enter integers between 1 and 100: \").split()))\n",
    "tracker = dict()\n",
    "\n",
    "for number in numbers:\n",
    "    if number in tracker:\n",
    "        tracker[number] += 1\n",
    "    else:\n",
    "        tracker[number] = 1\n",
    "\n",
    "tracker = dict(sorted(tracker.items(), key=lambda item: item[0]))\n",
    "\n",
    "for item in tracker:\n",
    "    if tracker[item] > 1:\n",
    "        print(f\"{item} occurs {tracker[item]} times\")\n",
    "    else:\n",
    "        print(f\"{item} occurs {tracker[item]} time\")"
   ]
  },
  {
   "cell_type": "markdown",
   "metadata": {},
   "source": [
    "# 10.5"
   ]
  },
  {
   "cell_type": "code",
   "execution_count": 110,
   "metadata": {},
   "outputs": [
    {
     "name": "stdout",
     "output_type": "stream",
     "text": [
      "Enter some integers: 1 2 3 2 1 6 3 4 5 2\n",
      "The distinct numbers are: 1 2 3 4 5 6 "
     ]
    }
   ],
   "source": [
    "numbers = list(map(int, input(\"Enter some integers: \").split()))\n",
    "distinct = list()\n",
    "for number in numbers:\n",
    "    if number in distinct:\n",
    "        pass\n",
    "    else:\n",
    "        distinct.append(number)\n",
    "distinct = list(sorted(distinct))\n",
    "print(f\"The distinct numbers are:\", end=\" \")\n",
    "for num in distinct:\n",
    "    print(f\"{num}\", end=\" \")"
   ]
  },
  {
   "cell_type": "markdown",
   "metadata": {},
   "source": [
    "# 10.9"
   ]
  },
  {
   "cell_type": "code",
   "execution_count": 115,
   "metadata": {},
   "outputs": [],
   "source": [
    "from math import sqrt"
   ]
  },
  {
   "cell_type": "code",
   "execution_count": 123,
   "metadata": {},
   "outputs": [],
   "source": [
    "def mean(x):\n",
    "    return sum(x)/len(x)\n",
    "    \n",
    "def deviation(x):\n",
    "    avg = mean(x)\n",
    "    summation = 0\n",
    "    for num in x:\n",
    "        summation += (num - avg)**2\n",
    "    return sqrt(summation / (len(x)-1))\n",
    "    "
   ]
  },
  {
   "cell_type": "code",
   "execution_count": 126,
   "metadata": {},
   "outputs": [
    {
     "name": "stdout",
     "output_type": "stream",
     "text": [
      "Enter some numbers: 1.9 2.5 3.7 2 1 6 3 4 5 2\n",
      "The mean is 3.11\n",
      "The standard deviation is 1.55738\n"
     ]
    }
   ],
   "source": [
    "numbers = list(map(float, input(\"Enter some numbers: \").split()))\n",
    "print(f\"The mean is {mean(numbers):.2f}\")\n",
    "print(f\"The standard deviation is {deviation(numbers):.5f}\")"
   ]
  },
  {
   "cell_type": "markdown",
   "metadata": {},
   "source": [
    "# 11.1"
   ]
  },
  {
   "cell_type": "code",
   "execution_count": 128,
   "metadata": {},
   "outputs": [
    {
     "name": "stdout",
     "output_type": "stream",
     "text": [
      "Enter a 3-by-4 matric row for 0: 1.5 2 3 4\n",
      "Enter a 3-by-4 matric row for 1: 5.5 6 7 8\n",
      "Enter a 3-by-4 matric row for 2: 9.5 1 3 1\n"
     ]
    }
   ],
   "source": [
    "row0 = list(map(float, input(\"Enter a 3-by-4 matric row for 0: \").split()))\n",
    "row1 = list(map(float, input(\"Enter a 3-by-4 matric row for 1: \").split()))\n",
    "row2 = list(map(float, input(\"Enter a 3-by-4 matric row for 2: \").split()))"
   ]
  },
  {
   "cell_type": "code",
   "execution_count": 129,
   "metadata": {},
   "outputs": [
    {
     "name": "stdout",
     "output_type": "stream",
     "text": [
      "Sum of the elements for row 0 is 16.5\n",
      "Sum of the elements for row 1 is 9.0\n",
      "Sum of the elements for row 2 is 13.0\n",
      "Sum of the elements for row 3 is 13.0\n"
     ]
    }
   ],
   "source": [
    "matrix = [row0,row1,row2]\n",
    "for i in range(4):\n",
    "    column_sum = 0\n",
    "    for j in range(3):\n",
    "        column_sum += matrix[j][i]\n",
    "    print(f\"Sum of the elements for row {i} is {column_sum}\")"
   ]
  },
  {
   "cell_type": "markdown",
   "metadata": {},
   "source": [
    "# 11.2"
   ]
  },
  {
   "cell_type": "code",
   "execution_count": 130,
   "metadata": {},
   "outputs": [
    {
     "name": "stdout",
     "output_type": "stream",
     "text": [
      "Enter a 4-by-4 matric row for 1: 1 2 3 4\n",
      "Enter a 4-by-4 matric row for 2: 5 6.5 7 8\n",
      "Enter a 4-by-4 matric row for 3: 9 10 11 12\n",
      "Enter a 4-by-4 matric row for 4: 13 14 15 16\n"
     ]
    }
   ],
   "source": [
    "row0 = list(map(float, input(\"Enter a 4-by-4 matric row for 1: \").split()))\n",
    "row1 = list(map(float, input(\"Enter a 4-by-4 matric row for 2: \").split()))\n",
    "row2 = list(map(float, input(\"Enter a 4-by-4 matric row for 3: \").split()))\n",
    "row3 = list(map(float, input(\"Enter a 4-by-4 matric row for 4: \").split()))\n",
    "\n",
    "m = [row0, row1, row2, row3]"
   ]
  },
  {
   "cell_type": "code",
   "execution_count": 131,
   "metadata": {},
   "outputs": [
    {
     "data": {
      "text/plain": [
       "[[1.0, 2.0, 3.0, 4.0],\n",
       " [5.0, 6.5, 7.0, 8.0],\n",
       " [9.0, 10.0, 11.0, 12.0],\n",
       " [13.0, 14.0, 15.0, 16.0]]"
      ]
     },
     "execution_count": 131,
     "metadata": {},
     "output_type": "execute_result"
    }
   ],
   "source": [
    "m"
   ]
  },
  {
   "cell_type": "code",
   "execution_count": 134,
   "metadata": {},
   "outputs": [],
   "source": [
    "def sumMajorDiagonal(m):\n",
    "    d_sum = 0\n",
    "    for i in range(len(m)):\n",
    "        for j in range(len(m)):\n",
    "            if i == j:\n",
    "                d_sum += m[i][j]\n",
    "    return d_sum"
   ]
  },
  {
   "cell_type": "code",
   "execution_count": 136,
   "metadata": {},
   "outputs": [
    {
     "name": "stdout",
     "output_type": "stream",
     "text": [
      "Sum of the elements in the major diagonal is 34.5\n"
     ]
    }
   ],
   "source": [
    "print(f\"Sum of the elements in the major diagonal is {sumMajorDiagonal(m)}\")"
   ]
  },
  {
   "cell_type": "markdown",
   "metadata": {},
   "source": [
    "# 11.4"
   ]
  },
  {
   "cell_type": "code",
   "execution_count": 137,
   "metadata": {},
   "outputs": [
    {
     "name": "stdout",
     "output_type": "stream",
     "text": [
      "Enter daily hours: 2 4 3 4 5 8 8\n",
      "Enter daily hours: 7 3 4 3 3 4 4 \n",
      "Enter daily hours: 3 3 4 3 3 2 2\n",
      "Enter daily hours: 9 3 4 3 3 2 2\n",
      "Enter daily hours: 3 5 4 3 6 3 8\n",
      "Enter daily hours: 3 4 4 6 3 4 4\n",
      "Enter daily hours: 3 7 4 8 3 8 4\n",
      "Enter daily hours: 6 3 5 9 2 7 9\n"
     ]
    }
   ],
   "source": [
    "weekly_hours = []\n",
    "for i in range(8):\n",
    "    weekly_hours.append(list(map(float, input(\"Enter daily hours: \").split())))"
   ]
  },
  {
   "cell_type": "code",
   "execution_count": 138,
   "metadata": {},
   "outputs": [
    {
     "data": {
      "text/plain": [
       "[[2.0, 4.0, 3.0, 4.0, 5.0, 8.0, 8.0],\n",
       " [7.0, 3.0, 4.0, 3.0, 3.0, 4.0, 4.0],\n",
       " [3.0, 3.0, 4.0, 3.0, 3.0, 2.0, 2.0],\n",
       " [9.0, 3.0, 4.0, 3.0, 3.0, 2.0, 2.0],\n",
       " [3.0, 5.0, 4.0, 3.0, 6.0, 3.0, 8.0],\n",
       " [3.0, 4.0, 4.0, 6.0, 3.0, 4.0, 4.0],\n",
       " [3.0, 7.0, 4.0, 8.0, 3.0, 8.0, 4.0],\n",
       " [6.0, 3.0, 5.0, 9.0, 2.0, 7.0, 9.0]]"
      ]
     },
     "execution_count": 138,
     "metadata": {},
     "output_type": "execute_result"
    }
   ],
   "source": [
    "weekly_hours"
   ]
  },
  {
   "cell_type": "code",
   "execution_count": 139,
   "metadata": {},
   "outputs": [],
   "source": [
    "employees = dict()\n",
    "for i, hours in enumerate(weekly_hours):\n",
    "    employees[i] = sum(hours)"
   ]
  },
  {
   "cell_type": "code",
   "execution_count": 140,
   "metadata": {},
   "outputs": [
    {
     "data": {
      "text/plain": [
       "{0: 34.0, 1: 28.0, 2: 20.0, 3: 26.0, 4: 32.0, 5: 28.0, 6: 37.0, 7: 41.0}"
      ]
     },
     "execution_count": 140,
     "metadata": {},
     "output_type": "execute_result"
    }
   ],
   "source": [
    "employees"
   ]
  },
  {
   "cell_type": "code",
   "execution_count": 144,
   "metadata": {},
   "outputs": [],
   "source": [
    "sorted_hours = dict(reversed(sorted(employees.items(), key=lambda item: item[0])))"
   ]
  },
  {
   "cell_type": "code",
   "execution_count": 145,
   "metadata": {},
   "outputs": [
    {
     "data": {
      "text/plain": [
       "{7: 41.0, 6: 37.0, 5: 28.0, 4: 32.0, 3: 26.0, 2: 20.0, 1: 28.0, 0: 34.0}"
      ]
     },
     "execution_count": 145,
     "metadata": {},
     "output_type": "execute_result"
    }
   ],
   "source": [
    "sorted_hours"
   ]
  },
  {
   "cell_type": "code",
   "execution_count": 149,
   "metadata": {},
   "outputs": [
    {
     "name": "stdout",
     "output_type": "stream",
     "text": [
      "Employee 7 worked 41.0 hours\n",
      "Employee 6 worked 37.0 hours\n",
      "Employee 5 worked 28.0 hours\n",
      "Employee 4 worked 32.0 hours\n",
      "Employee 3 worked 26.0 hours\n",
      "Employee 2 worked 20.0 hours\n",
      "Employee 1 worked 28.0 hours\n",
      "Employee 0 worked 34.0 hours\n"
     ]
    }
   ],
   "source": [
    "for employee in sorted_hours:\n",
    "    print(f\"Employee {employee} worked {employees[employee]} hours\")"
   ]
  },
  {
   "cell_type": "code",
   "execution_count": null,
   "metadata": {},
   "outputs": [],
   "source": []
  }
 ],
 "metadata": {
  "kernelspec": {
   "display_name": "Python 3",
   "language": "python",
   "name": "python3"
  },
  "language_info": {
   "codemirror_mode": {
    "name": "ipython",
    "version": 3
   },
   "file_extension": ".py",
   "mimetype": "text/x-python",
   "name": "python",
   "nbconvert_exporter": "python",
   "pygments_lexer": "ipython3",
   "version": "3.6.9"
  }
 },
 "nbformat": 4,
 "nbformat_minor": 4
}
