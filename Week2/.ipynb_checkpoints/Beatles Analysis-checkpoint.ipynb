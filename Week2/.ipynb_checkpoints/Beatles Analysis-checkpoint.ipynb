{
 "cells": [
  {
   "cell_type": "markdown",
   "metadata": {},
   "source": [
    "# Occurrences of Words with Favorite song"
   ]
  },
  {
   "cell_type": "code",
   "execution_count": 76,
   "metadata": {},
   "outputs": [],
   "source": [
    "lyrics = open('the_beatles_wait.txt','r').read()"
   ]
  },
  {
   "cell_type": "code",
   "execution_count": 77,
   "metadata": {},
   "outputs": [],
   "source": [
    "while '\\n' in lyrics or ',' in lyrics:\n",
    "    lyrics = lyrics.replace('\\n', ' ')\n",
    "    lyrics = lyrics.replace(',', ' ')"
   ]
  },
  {
   "cell_type": "code",
   "execution_count": 78,
   "metadata": {},
   "outputs": [
    {
     "data": {
      "text/plain": [
       "\"It's been a long time  now I'm coming back home I've been away now  oh  how I've been alone  Wait till I come back to your side We'll forget the tears we've cried  But if your heart breaks  don't wait  turn me away And if your heart's strong  hold on  I won't delay  Wait till I come back to your side We'll forget the tears we've cried  I feel as though you ought to know That I've been good  as good as I can be And if you do  I'll trust in you And know that you will wait for me  It's been a long time  now I'm coming back home I've been away now  oh  how I've been alone  Wait till I come back to your side We'll forget the tears we've cried  I feel as though you ought to know That I've been good  as good as I can be And if you do  I'll trust in you And know that you will wait for me  But if your heart breaks  don't wait  turn me away And if your heart's strong  hold on  I won't delay  Wait till I come back to your side We'll forget the tears we've cried  It's been a long time  now I'm coming back home I've been away now  oh  how I've been alone\""
      ]
     },
     "execution_count": 78,
     "metadata": {},
     "output_type": "execute_result"
    }
   ],
   "source": [
    "lyrics"
   ]
  },
  {
   "cell_type": "code",
   "execution_count": 79,
   "metadata": {},
   "outputs": [],
   "source": [
    "occurrences = dict()\n",
    "for word in lyrics.split(' '):\n",
    "    word = word.lower()\n",
    "    if word in occurrences:\n",
    "        occurrences[word] += 1\n",
    "    else:\n",
    "        occurrences[word] = 1"
   ]
  },
  {
   "cell_type": "code",
   "execution_count": 80,
   "metadata": {},
   "outputs": [
    {
     "data": {
      "text/plain": [
       "{\"it's\": 3,\n",
       " 'been': 11,\n",
       " 'a': 3,\n",
       " 'long': 3,\n",
       " 'time': 3,\n",
       " '': 31,\n",
       " 'now': 6,\n",
       " \"i'm\": 3,\n",
       " 'coming': 3,\n",
       " 'back': 7,\n",
       " 'home': 3,\n",
       " \"i've\": 8,\n",
       " 'away': 5,\n",
       " 'oh': 3,\n",
       " 'how': 3,\n",
       " 'alone': 3,\n",
       " 'wait': 8,\n",
       " 'till': 4,\n",
       " 'i': 10,\n",
       " 'come': 4,\n",
       " 'to': 6,\n",
       " 'your': 8,\n",
       " 'side': 4,\n",
       " \"we'll\": 4,\n",
       " 'forget': 4,\n",
       " 'the': 4,\n",
       " 'tears': 4,\n",
       " \"we've\": 4,\n",
       " 'cried': 4,\n",
       " 'but': 2,\n",
       " 'if': 6,\n",
       " 'heart': 2,\n",
       " 'breaks': 2,\n",
       " \"don't\": 2,\n",
       " 'turn': 2,\n",
       " 'me': 4,\n",
       " 'and': 6,\n",
       " \"heart's\": 2,\n",
       " 'strong': 2,\n",
       " 'hold': 2,\n",
       " 'on': 2,\n",
       " \"won't\": 2,\n",
       " 'delay': 2,\n",
       " 'feel': 2,\n",
       " 'as': 6,\n",
       " 'though': 2,\n",
       " 'you': 8,\n",
       " 'ought': 2,\n",
       " 'know': 4,\n",
       " 'that': 4,\n",
       " 'good': 4,\n",
       " 'can': 2,\n",
       " 'be': 2,\n",
       " 'do': 2,\n",
       " \"i'll\": 2,\n",
       " 'trust': 2,\n",
       " 'in': 2,\n",
       " 'will': 2,\n",
       " 'for': 2}"
      ]
     },
     "execution_count": 80,
     "metadata": {},
     "output_type": "execute_result"
    }
   ],
   "source": [
    "occurrences"
   ]
  },
  {
   "cell_type": "code",
   "execution_count": 81,
   "metadata": {},
   "outputs": [
    {
     "data": {
      "text/plain": [
       "dict_items([(\"it's\", 3), ('been', 11), ('a', 3), ('long', 3), ('time', 3), ('', 31), ('now', 6), (\"i'm\", 3), ('coming', 3), ('back', 7), ('home', 3), (\"i've\", 8), ('away', 5), ('oh', 3), ('how', 3), ('alone', 3), ('wait', 8), ('till', 4), ('i', 10), ('come', 4), ('to', 6), ('your', 8), ('side', 4), (\"we'll\", 4), ('forget', 4), ('the', 4), ('tears', 4), (\"we've\", 4), ('cried', 4), ('but', 2), ('if', 6), ('heart', 2), ('breaks', 2), (\"don't\", 2), ('turn', 2), ('me', 4), ('and', 6), (\"heart's\", 2), ('strong', 2), ('hold', 2), ('on', 2), (\"won't\", 2), ('delay', 2), ('feel', 2), ('as', 6), ('though', 2), ('you', 8), ('ought', 2), ('know', 4), ('that', 4), ('good', 4), ('can', 2), ('be', 2), ('do', 2), (\"i'll\", 2), ('trust', 2), ('in', 2), ('will', 2), ('for', 2)])"
      ]
     },
     "execution_count": 81,
     "metadata": {},
     "output_type": "execute_result"
    }
   ],
   "source": [
    "occurrences.items()"
   ]
  },
  {
   "cell_type": "code",
   "execution_count": 82,
   "metadata": {},
   "outputs": [],
   "source": [
    "sorted_lyrics = dict((sorted(occurrences.items(), key=lambda item: item[0])))"
   ]
  },
  {
   "cell_type": "code",
   "execution_count": 83,
   "metadata": {},
   "outputs": [
    {
     "name": "stdout",
     "output_type": "stream",
     "text": [
      "{'': 31, 'a': 3, 'alone': 3, 'and': 6, 'as': 6, 'away': 5, 'back': 7, 'be': 2, 'been': 11, 'breaks': 2, 'but': 2, 'can': 2, 'come': 4, 'coming': 3, 'cried': 4, 'delay': 2, 'do': 2, \"don't\": 2, 'feel': 2, 'for': 2, 'forget': 4, 'good': 4, 'heart': 2, \"heart's\": 2, 'hold': 2, 'home': 3, 'how': 3, 'i': 10, \"i'll\": 2, \"i'm\": 3, \"i've\": 8, 'if': 6, 'in': 2, \"it's\": 3, 'know': 4, 'long': 3, 'me': 4, 'now': 6, 'oh': 3, 'on': 2, 'ought': 2, 'side': 4, 'strong': 2, 'tears': 4, 'that': 4, 'the': 4, 'though': 2, 'till': 4, 'time': 3, 'to': 6, 'trust': 2, 'turn': 2, 'wait': 8, \"we'll\": 4, \"we've\": 4, 'will': 2, \"won't\": 2, 'you': 8, 'your': 8}\n"
     ]
    }
   ],
   "source": [
    "print(sorted_lyrics)"
   ]
  },
  {
   "cell_type": "code",
   "execution_count": 84,
   "metadata": {},
   "outputs": [
    {
     "name": "stdout",
     "output_type": "stream",
     "text": [
      "'' occurs 31 times\n",
      "'a' occurs 3 times\n",
      "'alone' occurs 3 times\n",
      "'and' occurs 6 times\n",
      "'as' occurs 6 times\n",
      "'away' occurs 5 times\n",
      "'back' occurs 7 times\n",
      "'be' occurs 2 times\n",
      "'been' occurs 11 times\n",
      "'breaks' occurs 2 times\n",
      "'but' occurs 2 times\n",
      "'can' occurs 2 times\n",
      "'come' occurs 4 times\n",
      "'coming' occurs 3 times\n",
      "'cried' occurs 4 times\n",
      "'delay' occurs 2 times\n",
      "'do' occurs 2 times\n",
      "'don't' occurs 2 times\n",
      "'feel' occurs 2 times\n",
      "'for' occurs 2 times\n",
      "'forget' occurs 4 times\n",
      "'good' occurs 4 times\n",
      "'heart' occurs 2 times\n",
      "'heart's' occurs 2 times\n",
      "'hold' occurs 2 times\n",
      "'home' occurs 3 times\n",
      "'how' occurs 3 times\n",
      "'i' occurs 10 times\n",
      "'i'll' occurs 2 times\n",
      "'i'm' occurs 3 times\n",
      "'i've' occurs 8 times\n",
      "'if' occurs 6 times\n",
      "'in' occurs 2 times\n",
      "'it's' occurs 3 times\n",
      "'know' occurs 4 times\n",
      "'long' occurs 3 times\n",
      "'me' occurs 4 times\n",
      "'now' occurs 6 times\n",
      "'oh' occurs 3 times\n",
      "'on' occurs 2 times\n",
      "'ought' occurs 2 times\n",
      "'side' occurs 4 times\n",
      "'strong' occurs 2 times\n",
      "'tears' occurs 4 times\n",
      "'that' occurs 4 times\n",
      "'the' occurs 4 times\n",
      "'though' occurs 2 times\n",
      "'till' occurs 4 times\n",
      "'time' occurs 3 times\n",
      "'to' occurs 6 times\n",
      "'trust' occurs 2 times\n",
      "'turn' occurs 2 times\n",
      "'wait' occurs 8 times\n",
      "'we'll' occurs 4 times\n",
      "'we've' occurs 4 times\n",
      "'will' occurs 2 times\n",
      "'won't' occurs 2 times\n",
      "'you' occurs 8 times\n",
      "'your' occurs 8 times\n"
     ]
    }
   ],
   "source": [
    "for i, word in enumerate(sorted_lyrics):\n",
    "    if sorted_lyrics[word] > 1:\n",
    "        print(f\"'{word}' occurs {sorted_lyrics[word]} times\")\n",
    "    else:\n",
    "        print(f\"'{word}' occurs {sorted_lyrics[word]} time\")"
   ]
  },
  {
   "cell_type": "code",
   "execution_count": null,
   "metadata": {},
   "outputs": [],
   "source": []
  }
 ],
 "metadata": {
  "kernelspec": {
   "display_name": "Python 3",
   "language": "python",
   "name": "python3"
  },
  "language_info": {
   "codemirror_mode": {
    "name": "ipython",
    "version": 3
   },
   "file_extension": ".py",
   "mimetype": "text/x-python",
   "name": "python",
   "nbconvert_exporter": "python",
   "pygments_lexer": "ipython3",
   "version": "3.6.9"
  }
 },
 "nbformat": 4,
 "nbformat_minor": 4
}
