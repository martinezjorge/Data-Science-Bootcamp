{
 "cells": [
  {
   "cell_type": "code",
   "execution_count": 1,
   "metadata": {},
   "outputs": [],
   "source": [
    "import numpy as np"
   ]
  },
  {
   "cell_type": "markdown",
   "metadata": {},
   "source": [
    "1.7"
   ]
  },
  {
   "cell_type": "code",
   "execution_count": 88,
   "metadata": {},
   "outputs": [
    {
     "name": "stdout",
     "output_type": "stream",
     "text": [
      "3.140592653839794\n"
     ]
    }
   ],
   "source": [
    "\n",
    "num_of_terms = 1000\n",
    "pi_sum = 1\n",
    "\n",
    "for i in range(num_of_terms):\n",
    "    if i == 0:\n",
    "        continue\n",
    "    elif i % 2 == 1:\n",
    "        pi_sum -= 1/((2*i)+1)\n",
    "    elif i % 2 == 0:\n",
    "        pi_sum += 1/((2*i)+1)\n",
    "\n",
    "pi = 4 * pi_sum\n",
    "\n",
    "print(pi)"
   ]
  },
  {
   "cell_type": "markdown",
   "metadata": {},
   "source": [
    "1.11"
   ]
  },
  {
   "cell_type": "code",
   "execution_count": 91,
   "metadata": {},
   "outputs": [
    {
     "name": "stdout",
     "output_type": "stream",
     "text": [
      "31536000\n",
      "326934113\n"
     ]
    }
   ],
   "source": [
    "current_population = 312_032_486\n",
    "seconds_in_a_year = 365*24*60*60\n",
    "print(seconds_in_a_year)\n",
    "for i in range(seconds_in_a_year*5):\n",
    "    if (i+1) % 7 == 0:\n",
    "        current_population += 1\n",
    "    elif (i+1) % 13 == 0:\n",
    "        current_population -= 1\n",
    "    elif (i+1) % 45 == 0:\n",
    "        current_population += 1\n",
    "print(current_population)"
   ]
  },
  {
   "cell_type": "code",
   "execution_count": 94,
   "metadata": {},
   "outputs": [
    {
     "name": "stdout",
     "output_type": "stream",
     "text": [
      "325932970\n"
     ]
    }
   ],
   "source": [
    "current_population = 312_032_486\n",
    "\n",
    "seconds_in_five_years = seconds_in_a_year * 5\n",
    "births = seconds_in_five_years // 7\n",
    "deaths = seconds_in_five_years // 13\n",
    "new_immigrants = seconds_in_five_years // 45\n",
    "\n",
    "projected_population = current_population + births - deaths + new_immigrants\n",
    "\n",
    "print(projected_population)"
   ]
  },
  {
   "cell_type": "markdown",
   "metadata": {},
   "source": [
    "2.19"
   ]
  },
  {
   "cell_type": "code",
   "execution_count": 99,
   "metadata": {},
   "outputs": [
    {
     "name": "stdout",
     "output_type": "stream",
     "text": [
      "1043.34\n"
     ]
    }
   ],
   "source": [
    "investment_amount = 1000\n",
    "annual_interest_rate = 4.25\n",
    "num_of_years = 1\n",
    "num_of_months = num_of_years * 12\n",
    "monthly_interest_rate = annual_interest_rate / 1200\n",
    "\n",
    "future_investment_value = investment_amount*(1 + monthly_interest_rate)**num_of_months\n",
    "\n",
    "print(f\"{future_investment_value:.2f}\")"
   ]
  },
  {
   "cell_type": "markdown",
   "metadata": {},
   "source": [
    "3.5"
   ]
  },
  {
   "cell_type": "code",
   "execution_count": 8,
   "metadata": {},
   "outputs": [],
   "source": [
    "from math import tan, pi"
   ]
  },
  {
   "cell_type": "code",
   "execution_count": 11,
   "metadata": {},
   "outputs": [
    {
     "name": "stdout",
     "output_type": "stream",
     "text": [
      "Enter the number of sides: 5\n",
      "Enter the side: 6.5\n",
      "72.69017017488385\n"
     ]
    }
   ],
   "source": [
    "number_of_sides, length_of_side = int(input(\"Enter the number of sides: \")), float(input(\"Enter the side: \"))\n",
    "area = (number_of_sides * length_of_side**2) / (4 * tan(pi/number_of_sides) )\n",
    "print(area)"
   ]
  },
  {
   "cell_type": "markdown",
   "metadata": {},
   "source": [
    "4.25"
   ]
  },
  {
   "cell_type": "markdown",
   "metadata": {},
   "source": [
    "4.31"
   ]
  },
  {
   "cell_type": "markdown",
   "metadata": {},
   "source": [
    "Kramer's Solving Systems of Equations from Coordinates"
   ]
  },
  {
   "cell_type": "code",
   "execution_count": 2,
   "metadata": {},
   "outputs": [
    {
     "data": {
      "text/plain": [
       "array([-1.,  4.])"
      ]
     },
     "execution_count": 2,
     "metadata": {},
     "output_type": "execute_result"
    }
   ],
   "source": [
    "x = [2,5]\n",
    "y = [2,-1]\n",
    "v1 = np.polyfit(x,y,1)"
   ]
  },
  {
   "cell_type": "code",
   "execution_count": 3,
   "metadata": {},
   "outputs": [
    {
     "data": {
      "text/plain": [
       "array([ 0.8, -1.2])"
      ]
     },
     "execution_count": 3,
     "metadata": {},
     "output_type": "execute_result"
    }
   ],
   "source": [
    "w = [4,-1]\n",
    "z = [2,-2]\n",
    "np.polyfit(w,z,1)"
   ]
  },
  {
   "cell_type": "code",
   "execution_count": 4,
   "metadata": {},
   "outputs": [],
   "source": [
    "x1,y1,x2,y2,x3,y3,x4,y4 = 2,2,5,-1,4,2,-1,-2"
   ]
  },
  {
   "cell_type": "code",
   "execution_count": null,
   "metadata": {},
   "outputs": [],
   "source": [
    "x0, y0, x1, y1, x2, y2 = eval(input('Enter coordinates for the three points p0, p1, and p2:'))\n",
    "\n",
    "equation = (x1-x0)*(y2-y0)-(x2-x0)*(y1-y0) \n",
    "\n",
    "if equation > 0:\n",
    "    print(\"P2 is on the left side\")\n",
    "elif equation == 0:\n",
    "    print(\"p2 is on the same line\") \n",
    "else: \n",
    "    print(\"p2 is on the right side\") "
   ]
  },
  {
   "cell_type": "code",
   "execution_count": 5,
   "metadata": {},
   "outputs": [],
   "source": [
    "x1,x2,x3,x4=2,5,4,-1\n",
    "y1,y2,y3,y4=2,-1,2,-2\n",
    "\n",
    "first = (y2-y1)*x1 - (x2-x1)*y1\n",
    "second = ((y4-y3)*x3) - ((x4-x3)*y3)"
   ]
  },
  {
   "cell_type": "code",
   "execution_count": null,
   "metadata": {},
   "outputs": [],
   "source": [
    "A = np.array([(),()],)"
   ]
  },
  {
   "cell_type": "markdown",
   "metadata": {},
   "source": [
    "5.24"
   ]
  },
  {
   "cell_type": "code",
   "execution_count": 60,
   "metadata": {},
   "outputs": [
    {
     "name": "stdout",
     "output_type": "stream",
     "text": [
      "$500.01\n",
      "$18000.28\n"
     ]
    }
   ],
   "source": [
    "loan_amount = 18_000\n",
    "num_of_years = 3\n",
    "annual_interest_rate = 0.001\n",
    "monthly_interest_rate = annual_interest_rate / 1200\n",
    "\n",
    "monthly_payment = (loan_amount * monthly_interest_rate) / \\\n",
    "        ( 1 -  1  /  (1 + monthly_interest_rate)**(num_of_years * 12)   )\n",
    "total_payment = monthly_payment * num_of_years * 12\n",
    "\n",
    "print(f\"${monthly_payment:.2f}\")\n",
    "print(f\"${total_payment:.2f}\")"
   ]
  },
  {
   "cell_type": "code",
   "execution_count": 61,
   "metadata": {},
   "outputs": [
    {
     "name": "stdout",
     "output_type": "stream",
     "text": [
      "8.333333333333333e-07\n"
     ]
    }
   ],
   "source": [
    "print(monthly_interest_rate)"
   ]
  },
  {
   "cell_type": "code",
   "execution_count": 62,
   "metadata": {},
   "outputs": [
    {
     "name": "stdout",
     "output_type": "stream",
     "text": [
      "1 \t 0.01 \t 499.99   17500.01\n",
      "2 \t 0.01 \t 499.99   17000.01\n",
      "3 \t 0.01 \t 499.99   16500.02\n",
      "4 \t 0.01 \t 499.99   16000.03\n",
      "5 \t 0.01 \t 499.99   15500.03\n",
      "6 \t 0.01 \t 499.99   15000.04\n",
      "7 \t 0.01 \t 500.00   14500.04\n",
      "8 \t 0.01 \t 500.00   14000.05\n",
      "9 \t 0.01 \t 500.00   13500.05\n",
      "10 \t 0.01 \t 500.00   13000.05\n",
      "11 \t 0.01 \t 500.00   12500.06\n",
      "12 \t 0.01 \t 500.00   12000.06\n",
      "13 \t 0.01 \t 500.00   11500.06\n",
      "14 \t 0.01 \t 500.00   11000.06\n",
      "15 \t 0.01 \t 500.00   10500.07\n",
      "16 \t 0.01 \t 500.00   10000.07\n",
      "17 \t 0.01 \t 500.00   9500.07\n",
      "18 \t 0.01 \t 500.00   9000.07\n",
      "19 \t 0.01 \t 500.00   8500.07\n",
      "20 \t 0.01 \t 500.00   8000.07\n",
      "21 \t 0.01 \t 500.00   7500.07\n",
      "22 \t 0.01 \t 500.00   7000.06\n",
      "23 \t 0.01 \t 500.00   6500.06\n",
      "24 \t 0.01 \t 500.00   6000.06\n",
      "25 \t 0.01 \t 500.00   5500.06\n",
      "26 \t 0.00 \t 500.00   5000.05\n",
      "27 \t 0.00 \t 500.00   4500.05\n",
      "28 \t 0.00 \t 500.00   4000.05\n",
      "29 \t 0.00 \t 500.00   3500.04\n",
      "30 \t 0.00 \t 500.00   3000.04\n",
      "31 \t 0.00 \t 500.01   2500.03\n",
      "32 \t 0.00 \t 500.01   2000.03\n",
      "33 \t 0.00 \t 500.01   1500.02\n",
      "34 \t 0.00 \t 500.01   1000.01\n",
      "35 \t 0.00 \t 500.01   500.01\n",
      "36 \t 0.00 \t 500.01   -0.00\n"
     ]
    }
   ],
   "source": [
    "balance = loan_amount\n",
    "num_of_payments = num_of_years * 12\n",
    "for i in range(1, num_of_payments+1):\n",
    "        interest = monthly_interest_rate * balance\n",
    "        principal = monthly_payment - interest\n",
    "        balance = balance - principal\n",
    "        print(f\"{i} \\t {interest:.2f} \\t {principal:.2f}   {balance:.2f}\")"
   ]
  },
  {
   "cell_type": "code",
   "execution_count": null,
   "metadata": {},
   "outputs": [],
   "source": []
  }
 ],
 "metadata": {
  "kernelspec": {
   "display_name": "Python 3",
   "language": "python",
   "name": "python3"
  },
  "language_info": {
   "codemirror_mode": {
    "name": "ipython",
    "version": 3
   },
   "file_extension": ".py",
   "mimetype": "text/x-python",
   "name": "python",
   "nbconvert_exporter": "python",
   "pygments_lexer": "ipython3",
   "version": "3.6.9"
  }
 },
 "nbformat": 4,
 "nbformat_minor": 4
}
